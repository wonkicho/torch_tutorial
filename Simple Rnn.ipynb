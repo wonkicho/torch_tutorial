{
 "cells": [
  {
   "cell_type": "code",
   "execution_count": 1,
   "metadata": {},
   "outputs": [],
   "source": [
    "import torch\n",
    "from torch import nn\n",
    "import numpy as np\n",
    "import matplotlib.pyplot as plt\n",
    "%matplotlib inline"
   ]
  },
  {
   "cell_type": "code",
   "execution_count": 6,
   "metadata": {},
   "outputs": [
    {
     "data": {
      "image/png": "[encoded data removed]",
      "text/plain": [
       "<Figure size 576x360 with 1 Axes>"
      ]
     },
     "metadata": {
      "needs_background": "light"
     },
     "output_type": "display_data"
    }
   ],
   "source": [
    "plt.figure(figsize=(8,5))\n",
    "seq_length = 20\n",
    "\n",
    "time_steps = np.linspace(0, np.pi, seq_length+1)#start, stop, num\n",
    "data = np.sin(time_steps)\n",
    "data.resize((seq_length + 1,1))\n",
    "\n",
    "x = data[:-1]\n",
    "y = data[1:]\n",
    "\n",
    "plt.plot(time_steps[1:],x,'r.',label='input, x')\n",
    "plt.plot(time_steps[1:],y,'b.',label='target, y')\n",
    "plt.legend(loc='best')\n",
    "plt.show()"
   ]
  },
  {
   "cell_type": "code",
   "execution_count": 16,
   "metadata": {},
   "outputs": [],
   "source": [
    "class RNN(nn.Module):\n",
    "    def __init__(self, input_size, output_size, hidden_dim,n_layers):\n",
    "        super(RNN,self).__init__()\n",
    "        self.hidden_dim = hidden_dim\n",
    "        \n",
    "        self.rnn = nn.RNN(input_size, hidden_dim, n_layers, batch_first=True)\n",
    "        \n",
    "        #last Fc\n",
    "        self.fc = nn.Linear(hidden_dim, output_size)\n",
    "        \n",
    "    def forward(self, x, hidden):\n",
    "        # x(batch_size, seq_len, input_size)\n",
    "        # hidden (n_layers, batch_size, hidden_dim)\n",
    "        # r_out (batch_size, time_step, hidden_size)\n",
    "        batch_size = x.size(0)\n",
    "        \n",
    "        r_out, hidden = self.rnn(x,hidden)\n",
    "        # output size (batch_size * seq_len, hidden_dim)\n",
    "        r_out = r_out.view(-1,self.hidden_dim)\n",
    "        \n",
    "        #get final output\n",
    "        output = self.fc(r_out)\n",
    "        \n",
    "        return output, hidden\n",
    "        "
   ]
  },
  {
   "cell_type": "code",
   "execution_count": 18,
   "metadata": {},
   "outputs": [
    {
     "name": "stdout",
     "output_type": "stream",
     "text": [
      "input size: torch.Size([1, 20, 1])\n",
      "output size : torch.Size([20, 1])\n",
      "hidden stats size :  torch.Size([2, 1, 10])\n"
     ]
    }
   ],
   "source": [
    "test_rnn = RNN(input_size=1,output_size=1,hidden_dim=10, n_layers=2)\n",
    "\n",
    "time_steps = np.linspace(0,np.pi, seq_length)\n",
    "data = np.sin(time_steps)\n",
    "data.resize((seq_length,1))\n",
    "\n",
    "test_input = torch.Tensor(data).unsqueeze(0)\n",
    "print('input size:', test_input.size())\n",
    "\n",
    "#test out rnn sizes\n",
    "test_out, test_h = test_rnn(test_input,None)\n",
    "print('output size :',test_out.size())\n",
    "print('hidden stats size : ',test_h.size())"
   ]
  },
  {
   "cell_type": "code",
   "execution_count": 19,
   "metadata": {},
   "outputs": [
    {
     "name": "stdout",
     "output_type": "stream",
     "text": [
      "RNN(\n",
      "  (rnn): RNN(1, 32, batch_first=True)\n",
      "  (fc): Linear(in_features=32, out_features=1, bias=True)\n",
      ")\n"
     ]
    }
   ],
   "source": [
    "# 하이퍼 파라메터\n",
    "input_size = 1\n",
    "output_size = 1\n",
    "hidden_dim = 32\n",
    "n_layers = 1\n",
    "\n",
    "# instance\n",
    "rnn = RNN(input_size, output_size, hidden_dim,n_layers)\n",
    "print(rnn)"
   ]
  },
  {
   "cell_type": "code",
   "execution_count": 21,
   "metadata": {},
   "outputs": [],
   "source": [
    "criterion = nn.MSELoss()\n",
    "optimizer = torch.optim.Adam(rnn.parameters(), lr=0.01)"
   ]
  },
  {
   "cell_type": "code",
   "execution_count": 26,
   "metadata": {},
   "outputs": [],
   "source": [
    "def train(rnn, n_steps, print_every):\n",
    "    #hidden state 초기화\n",
    "    hidden = None\n",
    "    \n",
    "    for batch_i, step in enumerate(range(n_steps)):\n",
    "        time_steps = np.linspace(step*np.pi, (step+1)*np.pi, seq_length+1)\n",
    "        data = np.sin(time_steps)\n",
    "        data.resize((seq_length+1,1))\n",
    "        \n",
    "        x = data[:-1]\n",
    "        y = data[1:]\n",
    "        \n",
    "        x_tensor = torch.Tensor(x).unsqueeze(0)\n",
    "        y_tensor=torch.Tensor(y)\n",
    "        \n",
    "        #outpust from the rnn\n",
    "        prediction, hidden = rnn(x_tensor, hidden)\n",
    "        hidden = hidden.data\n",
    "        \n",
    "        loss = criterion(prediction, y_tensor)\n",
    "        optimizer.zero_grad()\n",
    "        loss.backward()\n",
    "        optimizer.step()\n",
    "        \n",
    "        if batch_i & print_every==0:\n",
    "            print('Loss : ', loss.item())\n",
    "            plt.plot(time_steps[1:],x,'r.')\n",
    "            plt.plot(time_steps[1:], prediction.data.numpy().flatten(),'b.')\n",
    "            plt.show()\n",
    "        \n",
    "    return rnn\n",
    "        "
   ]
  },
  {
   "cell_type": "code",
   "execution_count": 27,
   "metadata": {},
   "outputs": [
    {
     "name": "stdout",
     "output_type": "stream",
     "text": [
      "Loss :  0.10256980359554291\n"
     ]
    },
    {
     "data": {
      "image/png": "[encoded data removed]",
      "text/plain": [
       "<Figure size 432x288 with 1 Axes>"
      ]
     },
     "metadata": {
      "needs_background": "light"
     },
     "output_type": "display_data"
    },
    {
     "name": "stdout",
     "output_type": "stream",
     "text": [
      "Loss :  0.00910318735986948\n"
     ]
    },
    {
     "data": {
      "image/png": "[encoded data removed]",
      "text/plain": [
       "<Figure size 432x288 with 1 Axes>"
      ]
     },
     "metadata": {
      "needs_background": "light"
     },
     "output_type": "display_data"
    },
    {
     "name": "stdout",
     "output_type": "stream",
     "text": [
      "Loss :  0.009814928285777569\n"
     ]
    },
    {
     "data": {
      "image/png": "[encoded data removed]",
      "text/plain": [
       "<Figure size 432x288 with 1 Axes>"
      ]
     },
     "metadata": {
      "needs_background": "light"
     },
     "output_type": "display_data"
    },
    {
     "name": "stdout",
     "output_type": "stream",
     "text": [
      "Loss :  0.000316552264848724\n"
     ]
    },
    {
     "data": {
      "image/png": "[encoded data removed]",
      "text/plain": [
       "<Figure size 432x288 with 1 Axes>"
      ]
     },
     "metadata": {
      "needs_background": "light"
     },
     "output_type": "display_data"
    },
    {
     "name": "stdout",
     "output_type": "stream",
     "text": [
      "Loss :  0.00030377658549696207\n"
     ]
    },
    {
     "data": {
      "image/png": "[encoded data removed]",
      "text/plain": [
       "<Figure size 432x288 with 1 Axes>"
      ]
     },
     "metadata": {
      "needs_background": "light"
     },
     "output_type": "display_data"
    }
   ],
   "source": [
    "n_steps = 75\n",
    "print_every = 15\n",
    "\n",
    "trained_rnn = train(rnn, n_steps, print_every)"
   ]
  },
  {
   "cell_type": "code",
   "execution_count": 23,
   "metadata": {},
   "outputs": [
    {
     "data": {
      "text/plain": [
       "array([3.14159265, 3.29867229, 3.45575192, 3.61283155, 3.76991118,\n",
       "       3.92699082, 4.08407045, 4.24115008, 4.39822972, 4.55530935,\n",
       "       4.71238898, 4.86946861, 5.02654825, 5.18362788, 5.34070751,\n",
       "       5.49778714, 5.65486678, 5.81194641, 5.96902604, 6.12610567,\n",
       "       6.28318531])"
      ]
     },
     "execution_count": 23,
     "metadata": {},
     "output_type": "execute_result"
    }
   ],
   "source": [
    "np.linspace(1*np.pi, (1+1)*np.pi, seq_length+1)"
   ]
  },
  {
   "cell_type": "code",
   "execution_count": null,
   "metadata": {},
   "outputs": [],
   "source": []
  }
 ],
 "metadata": {
  "kernelspec": {
   "display_name": "Python 3",
   "language": "python",
   "name": "python3"
  },
  "language_info": {
   "codemirror_mode": {
    "name": "ipython",
    "version": 3
   },
   "file_extension": ".py",
   "mimetype": "text/x-python",
   "name": "python",
   "nbconvert_exporter": "python",
   "pygments_lexer": "ipython3",
   "version": "3.7.6"
  }
 },
 "nbformat": 4,
 "nbformat_minor": 4
}
