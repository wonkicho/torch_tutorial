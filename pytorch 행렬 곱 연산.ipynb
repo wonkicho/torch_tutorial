{
 "cells": [
  {
   "cell_type": "code",
   "execution_count": 1,
   "metadata": {},
   "outputs": [],
   "source": [
    "import torch"
   ]
  },
  {
   "cell_type": "code",
   "execution_count": 3,
   "metadata": {},
   "outputs": [],
   "source": [
    "w = torch.randn(5,3, dtype = torch.float)\n",
    "x = torch.tensor([[1.0,2.0],[3.0,4.0], [5.0,6.0]])"
   ]
  },
  {
   "cell_type": "code",
   "execution_count": 4,
   "metadata": {},
   "outputs": [
    {
     "name": "stdout",
     "output_type": "stream",
     "text": [
      "w size :  torch.Size([5, 3])\n",
      "x size :  torch.Size([3, 2])\n"
     ]
    }
   ],
   "source": [
    "print(\"w size : \",w.size())\n",
    "print(\"x size : \",x.size())"
   ]
  },
  {
   "cell_type": "code",
   "execution_count": 7,
   "metadata": {},
   "outputs": [
    {
     "name": "stdout",
     "output_type": "stream",
     "text": [
      "wx size :  torch.Size([5, 2])\n",
      "wx :  tensor([[ 7.5200,  9.4258],\n",
      "        [ 0.3628,  1.1725],\n",
      "        [-0.8812, -0.2701],\n",
      "        [-3.4332, -3.4014],\n",
      "        [-3.9665, -4.5975]])\n"
     ]
    }
   ],
   "source": [
    "wx = torch.mm(w,x) #(5x3) x (3x2) -> 5x2\n",
    "print(\"wx size : \",wx.size())\n",
    "print(\"wx : \",wx)"
   ]
  },
  {
   "cell_type": "code",
   "execution_count": 8,
   "metadata": {},
   "outputs": [
    {
     "name": "stdout",
     "output_type": "stream",
     "text": [
      "b :  torch.Size([5, 2])\n",
      "b :  tensor([[-0.6308, -0.0933],\n",
      "        [-0.9073, -1.6848],\n",
      "        [ 1.0609,  0.3777],\n",
      "        [-0.4565, -1.1046],\n",
      "        [ 0.2983, -0.3120]])\n"
     ]
    }
   ],
   "source": [
    "b = torch.randn(5,2, dtype = torch.float)\n",
    "print(\"b : \",b.size())\n",
    "print(\"b : \",b)"
   ]
  },
  {
   "cell_type": "code",
   "execution_count": 9,
   "metadata": {},
   "outputs": [
    {
     "name": "stdout",
     "output_type": "stream",
     "text": [
      "result :  torch.Size([5, 2])\n",
      "result :  tensor([[ 6.8892,  9.3325],\n",
      "        [-0.5445, -0.5123],\n",
      "        [ 0.1796,  0.1076],\n",
      "        [-3.8898, -4.5060],\n",
      "        [-3.6682, -4.9094]])\n"
     ]
    }
   ],
   "source": [
    "result = wx + b\n",
    "print(\"result : \", result.size())\n",
    "print(\"result : \", result)"
   ]
  },
  {
   "cell_type": "code",
   "execution_count": null,
   "metadata": {},
   "outputs": [],
   "source": []
  }
 ],
 "metadata": {
  "kernelspec": {
   "display_name": "Python 3",
   "language": "python",
   "name": "python3"
  },
  "language_info": {
   "codemirror_mode": {
    "name": "ipython",
    "version": 3
   },
   "file_extension": ".py",
   "mimetype": "text/x-python",
   "name": "python",
   "nbconvert_exporter": "python",
   "pygments_lexer": "ipython3",
   "version": "3.7.6"
  }
 },
 "nbformat": 4,
 "nbformat_minor": 4
}
