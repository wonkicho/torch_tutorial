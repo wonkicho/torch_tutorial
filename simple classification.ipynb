{
 "cells": [
  {
   "cell_type": "code",
   "execution_count": 1,
   "metadata": {},
   "outputs": [],
   "source": [
    "import torch\n",
    "import numpy as np\n",
    "from sklearn.datasets import make_blobs\n",
    "import matplotlib.pyplot as plt\n",
    "import torch.nn.functional as F"
   ]
  },
  {
   "cell_type": "code",
   "execution_count": 2,
   "metadata": {},
   "outputs": [],
   "source": [
    "n_dim = 2 #2차원 벡터 데이터\n",
    "x_train, y_train = make_blobs(n_samples=80,n_features=n_dim, centers=[[1,1],[-1,-1],[1,-1],[-1,1]],shuffle=True, cluster_std=0.3)\n",
    "x_test, y_test = make_blobs(n_samples=20,n_features=n_dim, centers=[[1,1],[-1,-1],[1,-1],[-1,1]],shuffle=True, cluster_std=0.3)"
   ]
  },
  {
   "cell_type": "code",
   "execution_count": 3,
   "metadata": {},
   "outputs": [
    {
     "data": {
      "text/plain": [
       "array([1, 2, 3, 0, 2, 1, 3, 1, 2, 3, 2, 0, 1, 1, 1, 3, 3, 1, 0, 3, 0, 1,\n",
       "       0, 1, 3, 1, 2, 2, 3, 0, 3, 2, 2, 3, 0, 0, 0, 0, 2, 3, 0, 1, 3, 3,\n",
       "       2, 1, 0, 2, 2, 3, 2, 1, 0, 3, 3, 0, 2, 0, 1, 0, 2, 1, 1, 3, 1, 3,\n",
       "       2, 1, 0, 2, 1, 0, 3, 2, 0, 3, 1, 0, 2, 2])"
      ]
     },
     "execution_count": 3,
     "metadata": {},
     "output_type": "execute_result"
    }
   ],
   "source": [
    "y_train"
   ]
  },
  {
   "cell_type": "markdown",
   "metadata": {},
   "source": [
    "train - 80개, test - 20개 "
   ]
  },
  {
   "cell_type": "code",
   "execution_count": 4,
   "metadata": {},
   "outputs": [],
   "source": [
    "def label_map(y_, from_,to_):\n",
    "    y = np.copy(y_)#train or test data 복사\n",
    "    for f in from_: # 레이블 값 부여\n",
    "        y[y_ == f] = to_\n",
    "    return y"
   ]
  },
  {
   "cell_type": "code",
   "execution_count": 5,
   "metadata": {},
   "outputs": [],
   "source": [
    "y_train = label_map(y_train,[0,1],0)\n",
    "y_train = label_map(y_train, [2,3],1)\n",
    "y_test = label_map(y_test, [0,1],0)\n",
    "y_test = label_map(y_test,[2,3],1)"
   ]
  },
  {
   "cell_type": "code",
   "execution_count": 6,
   "metadata": {},
   "outputs": [
    {
     "data": {
      "image/png": "[encoded data removed]",
      "text/plain": [
       "<Figure size 432x288 with 1 Axes>"
      ]
     },
     "metadata": {
      "needs_background": "light"
     },
     "output_type": "display_data"
    }
   ],
   "source": [
    "def vis_data(x,y=None, c='r'):\n",
    "    if y is None:\n",
    "        y = [None] * len(x)\n",
    "        \n",
    "    for x_,y_ in zip(x,y):\n",
    "        if y_ is None:\n",
    "            plt.plot(x_[0],x_[1], '*',markerfacecolor='none',markeredgecolor=c)\n",
    "        else :\n",
    "            plt.plot(x_[0],x_[1], c+'o' if y_==0 else c+'+')\n",
    "            \n",
    "plt.figure()\n",
    "vis_data(x_train,y_train,c='r')\n",
    "plt.show()"
   ]
  },
  {
   "cell_type": "code",
   "execution_count": 7,
   "metadata": {},
   "outputs": [],
   "source": [
    "# 넘파이 벡터 형식 데이터를 토치 텐서로 변환\n",
    "x_train = torch.FloatTensor(x_train)\n",
    "x_test = torch.FloatTensor(x_test)\n",
    "y_train = torch.FloatTensor(y_train)\n",
    "y_test = torch.FloatTensor(y_test)"
   ]
  },
  {
   "cell_type": "code",
   "execution_count": 8,
   "metadata": {},
   "outputs": [],
   "source": [
    "class NeuralNet(torch.nn.Module):\n",
    "    def __init__(self, input_size, hidden_size): # 객체가 갖는 속성값을 초기화\n",
    "        super(NeuralNet, self).__init__() #NeuralNet의 nn.Module 클래스 속성들을 가지고 초기화됨\n",
    "        \n",
    "        self.input_size = input_size\n",
    "        self.hidden_size = hidden_size\n",
    "        \n",
    "        self.linear_1 = torch.nn.Linear(self.input_size,self.hidden_size) #Linear - 행렬곱과 편향을 포함하는 연산\n",
    "        self.Relu = torch.nn.ReLU() #활성화 함수\n",
    "        self.linear_2 = torch.nn.Linear(self.hidden_size, 1) \n",
    "        self.sigmoid = torch.nn.Sigmoid() #활성화 함수\n",
    "        \n",
    "    def forward(self,input_tensor):\n",
    "        linear1 = self.linear_1(input_tensor)\n",
    "        relu = self.Relu(linear1)\n",
    "        linear2 = self.linear_2(relu)\n",
    "        output = self.sigmoid(linear2)\n",
    "        \n",
    "        return output"
   ]
  },
  {
   "cell_type": "code",
   "execution_count": 9,
   "metadata": {},
   "outputs": [],
   "source": [
    "model = NeuralNet(2,5) #input = 2 ,hidden = 5\n",
    "learning_rate = 0.03\n",
    "criterion = torch.nn.BCELoss() # binary cross entropy\n",
    "epochs = 2000"
   ]
  },
  {
   "cell_type": "code",
   "execution_count": 10,
   "metadata": {},
   "outputs": [],
   "source": [
    "optimizer = torch.optim.SGD(model.parameters(), lr=learning_rate)#확률적 경사하강법 사용( 새 가중치 = 가중치 - lr*가중치에 대한 기울기)\n",
    "#model.parameters -> 가중치 학습률 입력"
   ]
  },
  {
   "cell_type": "code",
   "execution_count": 11,
   "metadata": {},
   "outputs": [
    {
     "name": "stdout",
     "output_type": "stream",
     "text": [
      "Before training, test loss is 0.7211464047431946\n"
     ]
    }
   ],
   "source": [
    "model.eval()\n",
    "test_loss_before = criterion(model(x_test).squeeze(), y_test)\n",
    "print(\"Before training, test loss is {}\".format(test_loss_before.item()))"
   ]
  },
  {
   "cell_type": "code",
   "execution_count": 12,
   "metadata": {},
   "outputs": [
    {
     "name": "stdout",
     "output_type": "stream",
     "text": [
      "Train loss at 0 is 0.7263622879981995\n",
      "Train loss at 100 is 0.6093682050704956\n",
      "Train loss at 200 is 0.5172457098960876\n",
      "Train loss at 300 is 0.4246510863304138\n",
      "Train loss at 400 is 0.3420720100402832\n",
      "Train loss at 500 is 0.2768881320953369\n",
      "Train loss at 600 is 0.22688500583171844\n",
      "Train loss at 700 is 0.1882120668888092\n",
      "Train loss at 800 is 0.15817278623580933\n",
      "Train loss at 900 is 0.13422110676765442\n",
      "Train loss at 1000 is 0.1149272546172142\n",
      "Train loss at 1100 is 0.09916886687278748\n",
      "Train loss at 1200 is 0.08615066856145859\n",
      "Train loss at 1300 is 0.07531555742025375\n",
      "Train loss at 1400 is 0.06622824817895889\n",
      "Train loss at 1500 is 0.058594029396772385\n",
      "Train loss at 1600 is 0.05211687088012695\n",
      "Train loss at 1700 is 0.04666828736662865\n",
      "Train loss at 1800 is 0.04202202335000038\n",
      "Train loss at 1900 is 0.038029976189136505\n"
     ]
    }
   ],
   "source": [
    "for epoch in range(epochs):\n",
    "    model.train()\n",
    "    optimizer.zero_grad() #반복할때마다 경사값 새로 계산하기 위함\n",
    "    train_output = model(x_train)\n",
    "    \n",
    "    train_loss = criterion(train_output.squeeze(),y_train)\n",
    "    \n",
    "    if epoch % 100 ==0:\n",
    "        print(\"Train loss at {} is {}\".format(epoch, train_loss.item()))\n",
    "        \n",
    "    train_loss.backward()#오차함수를 가중치로 미분, 오차가 최소가 되는 방향 찾음\n",
    "    optimizer.step()#모델을 학습률만큼 옮김"
   ]
  },
  {
   "cell_type": "code",
   "execution_count": 14,
   "metadata": {},
   "outputs": [
    {
     "name": "stdout",
     "output_type": "stream",
     "text": [
      "After Training, test loss is 0.05179445073008537\n"
     ]
    }
   ],
   "source": [
    "model.eval()\n",
    "test_loss = criterion(model(x_test).squeeze(),y_test)\n",
    "print('After Training, test loss is {}'.format(test_loss.item()))"
   ]
  },
  {
   "cell_type": "code",
   "execution_count": 15,
   "metadata": {},
   "outputs": [
    {
     "name": "stdout",
     "output_type": "stream",
     "text": [
      "state_dict format of the model : OrderedDict([('linear_1.weight', tensor([[-0.6634, -0.4987],\n",
      "        [ 1.5358, -1.6004],\n",
      "        [ 0.8019, -0.8380],\n",
      "        [-1.8953,  1.9174],\n",
      "        [ 0.6324,  0.8221]])), ('linear_1.bias', tensor([ 0.1510, -0.2621, -0.1340, -0.8939,  0.2192])), ('linear_2.weight', tensor([[-0.7915,  2.1235,  1.0649,  2.7031, -0.9281]])), ('linear_2.bias', tensor([-2.2734]))])\n"
     ]
    }
   ],
   "source": [
    "#모델 내 가중치를 딕셔너리 형태로 {연산 이름 :\" 가중치 텐서와 편향 텐서\"}\n",
    "torch.save(model.state_dict(),'model.pt')\n",
    "print('state_dict format of the model : {}'.format(model.state_dict()))"
   ]
  },
  {
   "cell_type": "code",
   "execution_count": 21,
   "metadata": {},
   "outputs": [
    {
     "name": "stdout",
     "output_type": "stream",
     "text": [
      "벡터 [-1,1]이 레이블 1을 가질 확률 0.9932188391685486\n"
     ]
    }
   ],
   "source": [
    "new_model = NeuralNet(2,5)\n",
    "new_model.load_state_dict(torch.load('model.pt'))\n",
    "new_model.eval()\n",
    "print('벡터 [-1,1]이 레이블 1을 가질 확률 {}'.format(new_model(torch.FloatTensor([-1,1])).item()))"
   ]
  },
  {
   "cell_type": "code",
   "execution_count": 23,
   "metadata": {},
   "outputs": [
    {
     "data": {
      "text/plain": [
       "0.44738730788230896"
      ]
     },
     "execution_count": 23,
     "metadata": {},
     "output_type": "execute_result"
    }
   ],
   "source": [
    "new_model(torch.FloatTensor([-1,0])).item()"
   ]
  },
  {
   "cell_type": "code",
   "execution_count": null,
   "metadata": {},
   "outputs": [],
   "source": []
  }
 ],
 "metadata": {
  "kernelspec": {
   "display_name": "Python 3",
   "language": "python",
   "name": "python3"
  },
  "language_info": {
   "codemirror_mode": {
    "name": "ipython",
    "version": 3
   },
   "file_extension": ".py",
   "mimetype": "text/x-python",
   "name": "python",
   "nbconvert_exporter": "python",
   "pygments_lexer": "ipython3",
   "version": "3.7.6"
  }
 },
 "nbformat": 4,
 "nbformat_minor": 4
}
